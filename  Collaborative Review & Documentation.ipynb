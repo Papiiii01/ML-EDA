{
 "cells": [
  {
   "cell_type": "markdown",
   "id": "e4d323a8-eb87-4a61-a92b-7430beda18f0",
   "metadata": {},
   "source": [
    "Q1: What were the most surprising insights from this dataset?\n",
    "\n",
    "One surprising insight was the higher satisfaction levels among users from smaller towns compared to metro city users, which challenges the assumption that larger cities provide better dating experiences due to more options. Additionally, the popularity of Hinge over traditional apps like Tinder among younger users was unexpected, suggesting a shift in preferences toward apps emphasizing meaningful connections."
   ]
  },
  {
   "cell_type": "markdown",
   "id": "1997fad9-de75-4f44-826f-297e4f152590",
   "metadata": {},
   "source": [
    "Q2: What would you do differently if given more time?\n",
    "\n",
    "If given more time, I would perform a deeper time-based analysis to track changes in dating app preferences over different periods. Additionally, I would incorporate external datasets, such as regional demographics or internet penetration rates, to better understand how external factors influence dating behavior. Finally, I would refine the data preprocessing to explore user engagement patterns more granularly, like tracking how preferences vary across weekdays and weekends."
   ]
  },
  {
   "cell_type": "markdown",
   "id": "e3f83aa3-abe6-42ea-8501-ddc5927260ef",
   "metadata": {},
   "source": [
    "Q3: How can we improve dataset documentation for others?\n",
    "\n",
    "We can improve the dataset documentation by adding a data dictionary with clear descriptions of each column, including data types, possible values, and example entries. Additionally, providing metadata on how the data was collected, any potential biases, and the time period covered would help users understand the context. Visual aids like sample visualizations and workflow diagrams can also make the documentation more user-friendly."
   ]
  }
 ],
 "metadata": {
  "kernelspec": {
   "display_name": "Python 3 (ipykernel)",
   "language": "python",
   "name": "python3"
  },
  "language_info": {
   "codemirror_mode": {
    "name": "ipython",
    "version": 3
   },
   "file_extension": ".py",
   "mimetype": "text/x-python",
   "name": "python",
   "nbconvert_exporter": "python",
   "pygments_lexer": "ipython3",
   "version": "3.12.8"
  }
 },
 "nbformat": 4,
 "nbformat_minor": 5
}
