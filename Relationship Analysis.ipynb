{
 "cells": [
  {
   "cell_type": "code",
   "execution_count": 10,
   "id": "087930b7-cc7c-4c8e-aab3-861455ce9545",
   "metadata": {},
   "outputs": [],
   "source": [
    "import numpy as np\n",
    "import pandas as pd \n",
    "import matplotlib.pyplot as plt\n",
    "import seaborn as sns\n"
   ]
  },
  {
   "cell_type": "code",
   "execution_count": 16,
   "id": "10a2c644-698b-499e-b151-4afa44ffb126",
   "metadata": {},
   "outputs": [],
   "source": [
    "data = pd.read_csv(\"Cleaned_GenZ_DatingApp_Data.csv\")"
   ]
  },
  {
   "cell_type": "code",
   "execution_count": 17,
   "id": "876e4168-a110-463d-a1cc-15ce621e0cd6",
   "metadata": {},
   "outputs": [],
   "source": [
    "sns.set_style(\"whitegrid\")"
   ]
  },
  {
   "cell_type": "code",
   "execution_count": 19,
   "id": "cb6510c9-808e-4023-bcb1-d40cea61da21",
   "metadata": {},
   "outputs": [
    {
     "data": {
      "text/html": [
       "<div>\n",
       "<style scoped>\n",
       "    .dataframe tbody tr th:only-of-type {\n",
       "        vertical-align: middle;\n",
       "    }\n",
       "\n",
       "    .dataframe tbody tr th {\n",
       "        vertical-align: top;\n",
       "    }\n",
       "\n",
       "    .dataframe thead th {\n",
       "        text-align: right;\n",
       "    }\n",
       "</style>\n",
       "<table border=\"1\" class=\"dataframe\">\n",
       "  <thead>\n",
       "    <tr style=\"text-align: right;\">\n",
       "      <th>Primary_App</th>\n",
       "      <th>bumble</th>\n",
       "      <th>hinge</th>\n",
       "      <th>none</th>\n",
       "      <th>okcupid</th>\n",
       "      <th>tinder</th>\n",
       "    </tr>\n",
       "    <tr>\n",
       "      <th>Gender</th>\n",
       "      <th></th>\n",
       "      <th></th>\n",
       "      <th></th>\n",
       "      <th></th>\n",
       "      <th></th>\n",
       "    </tr>\n",
       "  </thead>\n",
       "  <tbody>\n",
       "    <tr>\n",
       "      <th>female</th>\n",
       "      <td>0.221591</td>\n",
       "      <td>0.198864</td>\n",
       "      <td>0.227273</td>\n",
       "      <td>0.221591</td>\n",
       "      <td>0.130682</td>\n",
       "    </tr>\n",
       "    <tr>\n",
       "      <th>male</th>\n",
       "      <td>0.169591</td>\n",
       "      <td>0.169591</td>\n",
       "      <td>0.228070</td>\n",
       "      <td>0.269006</td>\n",
       "      <td>0.163743</td>\n",
       "    </tr>\n",
       "    <tr>\n",
       "      <th>non-binary</th>\n",
       "      <td>0.163399</td>\n",
       "      <td>0.274510</td>\n",
       "      <td>0.183007</td>\n",
       "      <td>0.215686</td>\n",
       "      <td>0.163399</td>\n",
       "    </tr>\n",
       "  </tbody>\n",
       "</table>\n",
       "</div>"
      ],
      "text/plain": [
       "Primary_App    bumble     hinge      none   okcupid    tinder\n",
       "Gender                                                       \n",
       "female       0.221591  0.198864  0.227273  0.221591  0.130682\n",
       "male         0.169591  0.169591  0.228070  0.269006  0.163743\n",
       "non-binary   0.163399  0.274510  0.183007  0.215686  0.163399"
      ]
     },
     "execution_count": 19,
     "metadata": {},
     "output_type": "execute_result"
    }
   ],
   "source": [
    "data.groupby(\"Gender\")[\"Primary_App\"].value_counts(normalize=True).unstack() # Does gender influence dating app preferences?"
   ]
  },
  {
   "cell_type": "code",
   "execution_count": 20,
   "id": "2b78d29b-c01f-4d36-92d4-bf17acf630d2",
   "metadata": {},
   "outputs": [
    {
     "name": "stderr",
     "output_type": "stream",
     "text": [
      "C:\\Users\\ABDULAZEEZ RAHEEM\\AppData\\Local\\Temp\\ipykernel_40596\\4059154390.py:1: FutureWarning: Downcasting behavior in `replace` is deprecated and will be removed in a future version. To retain the old behavior, explicitly call `result.infer_objects(copy=False)`. To opt-in to the future behavior, set `pd.set_option('future.no_silent_downcasting', True)`\n",
      "  data[\"Daily_Usage_Time\"] = data[\"Daily_Usage_Time\"].replace({\"30 minutes\": 0.5, \"1.5 hours\": 1.5, \"2 hours\": 2, \"3 hours\": 3, \"1 hour\": 1})\n"
     ]
    }
   ],
   "source": [
    "data[\"Daily_Usage_Time\"] = data[\"Daily_Usage_Time\"].replace({\"30 minutes\": 0.5, \"1.5 hours\": 1.5, \"2 hours\": 2, \"3 hours\": 3, \"1 hour\": 1})"
   ]
  },
  {
   "cell_type": "markdown",
   "id": "bedae41a-b499-4dfd-97e5-29bc7afd06e4",
   "metadata": {},
   "source": [
    "Q1: Does gender influence dating app preferences?\n",
    "\n",
    "The answer to this question is 'yes', gender influences dating app preferences. For example, certain apps like Hinge or OkCupid are more popular among specific gender groups.\n"
   ]
  },
  {
   "cell_type": "markdown",
   "id": "4f33d2b0-d272-4c1e-8b10-cc9dbf280823",
   "metadata": {},
   "source": [
    "Q2: Are people using multiple dating apps simultaneously?\n",
    "\n",
    "Yes, people are using multiple dating apps:\n",
    "- 107 users are using more than one dating app, That’s about 21.4% of the total users."
   ]
  },
  {
   "cell_type": "markdown",
   "id": "920dd55a-6e64-4a91-9ddf-c4165ba74f5e",
   "metadata": {},
   "source": [
    "Q3: Which age group is most active on dating apps?\n",
    "\n",
    "The most active age group (those using apps daily) is 22 years old."
   ]
  },
  {
   "cell_type": "markdown",
   "id": "c0290ca6-bab4-4076-ad9e-92e6b9ad9db1",
   "metadata": {},
   "source": [
    "Q4: Do people in urban vs. rural areas show different usage patterns?\n",
    "\n",
    "Yes, there are different usage patterns:\n",
    "- Urban users tend to use dating apps more frequently (daily or weekly).\n",
    "- Rural users show a preference for less frequent usage, such as monthly.\n"
   ]
  },
  {
   "cell_type": "markdown",
   "id": "ab922f73-3f9d-46b6-9cb5-6a93c21a195c",
   "metadata": {},
   "source": [
    "Activity 1: Correlation Matrix & Heatmap: Identify relationships between numerical variables."
   ]
  },
  {
   "cell_type": "code",
   "execution_count": 12,
   "id": "1e6640b3-b6bf-44a8-bd4b-729c311822e4",
   "metadata": {},
   "outputs": [
    {
     "data": {
      "image/png": "[encoded data removed]",
      "text/plain": [
       "<Figure size 1000x600 with 2 Axes>"
      ]
     },
     "metadata": {},
     "output_type": "display_data"
    }
   ],
   "source": [
    "# Correlation Matrix & Heatmap\n",
    "numerical_df = data.select_dtypes(include=[np.number])  # Select only numerical columns\n",
    "correlation_matrix = numerical_df.corr()\n",
    "\n",
    "plt.figure(figsize=(10, 6))\n",
    "sns.heatmap(correlation_matrix, annot=True, cmap=\"coolwarm\", linewidths=0.5)\n",
    "plt.title(\"Correlation Matrix of Numerical Variables\")\n",
    "plt.show()"
   ]
  },
  {
   "cell_type": "markdown",
   "id": "dab30a58-1d66-42c5-b2f9-0ace976a2c21",
   "metadata": {},
   "source": [
    "To identify relationships between numerical variables like Age and Satisfaction, we use a correlation matrix. Correlation values range from -1 to 1:\n",
    "- 1 = Strong positive correlation (as one increases, so does the other)\n",
    "- -1 = Strong negative correlation (as one increases, the other decreases)\n",
    "- 0 = No correlation\n"
   ]
  },
  {
   "cell_type": "markdown",
   "id": "99c97ec7-0bbc-47ba-8eb5-29a8d4be4d70",
   "metadata": {},
   "source": [
    "Activity 2: Pivot Tables & Groupby Aggregations: Summarize data based on gender, age, and location."
   ]
  },
  {
   "cell_type": "code",
   "execution_count": 21,
   "id": "5532359a-7321-4231-9fc0-7cc968af2a48",
   "metadata": {},
   "outputs": [
    {
     "data": {
      "text/html": [
       "<div>\n",
       "<style scoped>\n",
       "    .dataframe tbody tr th:only-of-type {\n",
       "        vertical-align: middle;\n",
       "    }\n",
       "\n",
       "    .dataframe tbody tr th {\n",
       "        vertical-align: top;\n",
       "    }\n",
       "\n",
       "    .dataframe thead th {\n",
       "        text-align: right;\n",
       "    }\n",
       "</style>\n",
       "<table border=\"1\" class=\"dataframe\">\n",
       "  <thead>\n",
       "    <tr style=\"text-align: right;\">\n",
       "      <th></th>\n",
       "      <th>Age</th>\n",
       "      <th>(18, 22]</th>\n",
       "      <th>(22, 26]</th>\n",
       "    </tr>\n",
       "    <tr>\n",
       "      <th>Gender</th>\n",
       "      <th>Location</th>\n",
       "      <th></th>\n",
       "      <th></th>\n",
       "    </tr>\n",
       "  </thead>\n",
       "  <tbody>\n",
       "    <tr>\n",
       "      <th rowspan=\"7\" valign=\"top\">female</th>\n",
       "      <th>bangalore</th>\n",
       "      <td>1.611111</td>\n",
       "      <td>2.200000</td>\n",
       "    </tr>\n",
       "    <tr>\n",
       "      <th>chennai</th>\n",
       "      <td>1.281250</td>\n",
       "      <td>1.500000</td>\n",
       "    </tr>\n",
       "    <tr>\n",
       "      <th>delhi</th>\n",
       "      <td>1.888889</td>\n",
       "      <td>1.684211</td>\n",
       "    </tr>\n",
       "    <tr>\n",
       "      <th>hyderabad</th>\n",
       "      <td>2.000000</td>\n",
       "      <td>1.833333</td>\n",
       "    </tr>\n",
       "    <tr>\n",
       "      <th>kolkata</th>\n",
       "      <td>1.500000</td>\n",
       "      <td>2.100000</td>\n",
       "    </tr>\n",
       "    <tr>\n",
       "      <th>mumbai</th>\n",
       "      <td>1.730769</td>\n",
       "      <td>1.500000</td>\n",
       "    </tr>\n",
       "    <tr>\n",
       "      <th>pune</th>\n",
       "      <td>1.633333</td>\n",
       "      <td>1.681818</td>\n",
       "    </tr>\n",
       "    <tr>\n",
       "      <th rowspan=\"7\" valign=\"top\">male</th>\n",
       "      <th>bangalore</th>\n",
       "      <td>1.558824</td>\n",
       "      <td>1.583333</td>\n",
       "    </tr>\n",
       "    <tr>\n",
       "      <th>chennai</th>\n",
       "      <td>1.388889</td>\n",
       "      <td>1.500000</td>\n",
       "    </tr>\n",
       "    <tr>\n",
       "      <th>delhi</th>\n",
       "      <td>1.611111</td>\n",
       "      <td>1.583333</td>\n",
       "    </tr>\n",
       "    <tr>\n",
       "      <th>hyderabad</th>\n",
       "      <td>1.700000</td>\n",
       "      <td>1.833333</td>\n",
       "    </tr>\n",
       "    <tr>\n",
       "      <th>kolkata</th>\n",
       "      <td>1.423077</td>\n",
       "      <td>1.909091</td>\n",
       "    </tr>\n",
       "    <tr>\n",
       "      <th>mumbai</th>\n",
       "      <td>1.750000</td>\n",
       "      <td>1.642857</td>\n",
       "    </tr>\n",
       "    <tr>\n",
       "      <th>pune</th>\n",
       "      <td>1.666667</td>\n",
       "      <td>1.666667</td>\n",
       "    </tr>\n",
       "    <tr>\n",
       "      <th rowspan=\"7\" valign=\"top\">non-binary</th>\n",
       "      <th>bangalore</th>\n",
       "      <td>1.550000</td>\n",
       "      <td>1.200000</td>\n",
       "    </tr>\n",
       "    <tr>\n",
       "      <th>chennai</th>\n",
       "      <td>1.821429</td>\n",
       "      <td>1.500000</td>\n",
       "    </tr>\n",
       "    <tr>\n",
       "      <th>delhi</th>\n",
       "      <td>1.285714</td>\n",
       "      <td>2.000000</td>\n",
       "    </tr>\n",
       "    <tr>\n",
       "      <th>hyderabad</th>\n",
       "      <td>1.666667</td>\n",
       "      <td>2.055556</td>\n",
       "    </tr>\n",
       "    <tr>\n",
       "      <th>kolkata</th>\n",
       "      <td>1.178571</td>\n",
       "      <td>1.166667</td>\n",
       "    </tr>\n",
       "    <tr>\n",
       "      <th>mumbai</th>\n",
       "      <td>1.727273</td>\n",
       "      <td>1.416667</td>\n",
       "    </tr>\n",
       "    <tr>\n",
       "      <th>pune</th>\n",
       "      <td>1.555556</td>\n",
       "      <td>1.812500</td>\n",
       "    </tr>\n",
       "  </tbody>\n",
       "</table>\n",
       "</div>"
      ],
      "text/plain": [
       "Age                   (18, 22]  (22, 26]\n",
       "Gender     Location                     \n",
       "female     bangalore  1.611111  2.200000\n",
       "           chennai    1.281250  1.500000\n",
       "           delhi      1.888889  1.684211\n",
       "           hyderabad  2.000000  1.833333\n",
       "           kolkata    1.500000  2.100000\n",
       "           mumbai     1.730769  1.500000\n",
       "           pune       1.633333  1.681818\n",
       "male       bangalore  1.558824  1.583333\n",
       "           chennai    1.388889  1.500000\n",
       "           delhi      1.611111  1.583333\n",
       "           hyderabad  1.700000  1.833333\n",
       "           kolkata    1.423077  1.909091\n",
       "           mumbai     1.750000  1.642857\n",
       "           pune       1.666667  1.666667\n",
       "non-binary bangalore  1.550000  1.200000\n",
       "           chennai    1.821429  1.500000\n",
       "           delhi      1.285714  2.000000\n",
       "           hyderabad  1.666667  2.055556\n",
       "           kolkata    1.178571  1.166667\n",
       "           mumbai     1.727273  1.416667\n",
       "           pune       1.555556  1.812500"
      ]
     },
     "execution_count": 21,
     "metadata": {},
     "output_type": "execute_result"
    }
   ],
   "source": [
    "pivot_table = data.pivot_table(\n",
    "    values='Daily_Usage_Time',\n",
    "    index=['Gender', 'Location'],\n",
    "    columns=pd.cut(data['Age'], bins=[18, 22, 26, 30, 35, 40]),\n",
    "    aggfunc='mean',\n",
    "    observed = False\n",
    ")\n",
    "pivot_table"
   ]
  },
  {
   "cell_type": "markdown",
   "id": "87e66b64-2e9c-4072-aba6-4238638fcfa9",
   "metadata": {},
   "source": [
    "The pivot table helps summarize data to see trends. For example, we can calculate the average satisfaction of users based on their gender, age, and location."
   ]
  },
  {
   "cell_type": "markdown",
   "id": "4b2de160-df99-480c-a00f-add6dd91d23e",
   "metadata": {},
   "source": [
    "Activity 3: Stacked Bar Charts: Visualize categorical comparisons (e.g., dating app usage by gender)."
   ]
  },
  {
   "cell_type": "code",
   "execution_count": 26,
   "id": "0d658ee2-ad4d-4749-b085-e8387c3b4993",
   "metadata": {},
   "outputs": [
    {
     "data": {
      "text/plain": [
       "<Figure size 1000x500 with 0 Axes>"
      ]
     },
     "metadata": {},
     "output_type": "display_data"
    },
    {
     "data": {
      "image/png": "[encoded data removed]",
      "text/plain": [
       "<Figure size 1000x500 with 1 Axes>"
      ]
     },
     "metadata": {},
     "output_type": "display_data"
    }
   ],
   "source": [
    "# Create a crosstab for Primary_App usage by Gender\n",
    "gender_app_counts = pd.crosstab(data['Primary_App'], data['Gender'], normalize='index') * 100\n",
    "\n",
    "plt.figure(figsize=(10, 5))\n",
    "gender_app_counts.T.plot(kind=\"bar\", stacked=True, figsize=(10, 5), colormap=\"coolwarm\", edgecolor=\"black\")\n",
    "plt.title(\"Stacked Bar Chart: Dating App Usage by Gender\")\n",
    "plt.ylabel(\"Proportion of Users\")\n",
    "plt.xlabel(\"Dating Apps\")\n",
    "plt.xticks(rotation=45)\n",
    "plt.legend(title=\"Gender\")\n",
    "plt.show()"
   ]
  },
  {
   "cell_type": "markdown",
   "id": "6a785d2f-15f2-476b-a034-765aa5a67a35",
   "metadata": {},
   "source": [
    "Grouping & Pivoting:\n",
    "- The data is grouped by Gender and Primary_App to count how many users fall into each combination. The pivot table rearranges this grouped data so that each bar (by Gender) is divided into segments corresponding to different apps.\n",
    "\n",
    "Plotting:\n",
    "- A stacked bar chart is generated where each bar represents a gender and each segment within the bar shows the count of users for a specific dating app.\n",
    "\n",
    "This visualization provides a clear, comparative view of dating app preferences across different genders."
   ]
  }
 ],
 "metadata": {
  "kernelspec": {
   "display_name": "Python 3 (ipykernel)",
   "language": "python",
   "name": "python3"
  },
  "language_info": {
   "codemirror_mode": {
    "name": "ipython",
    "version": 3
   },
   "file_extension": ".py",
   "mimetype": "text/x-python",
   "name": "python",
   "nbconvert_exporter": "python",
   "pygments_lexer": "ipython3",
   "version": "3.12.8"
  }
 },
 "nbformat": 4,
 "nbformat_minor": 5
}
