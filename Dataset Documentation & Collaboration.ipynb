{
 "cells": [
  {
   "cell_type": "code",
   "execution_count": 1,
   "id": "b06a988d-dfcc-4de3-815b-7d63b191e564",
   "metadata": {},
   "outputs": [],
   "source": [
    "import numpy as np\n",
    "import pandas as pd \n",
    "import matplotlib.pyplot as plt"
   ]
  },
  {
   "cell_type": "code",
   "execution_count": 2,
   "id": "c79d6b52-4ebc-43f8-b256-4358481f312b",
   "metadata": {},
   "outputs": [],
   "source": [
    "data = pd.read_csv(\"GenZ_DatingApp_Data.csv\")"
   ]
  },
  {
   "cell_type": "markdown",
   "id": "bd99be0f-6aae-4f54-8655-6f7fc45434fc",
   "metadata": {},
   "source": [
    "Q1: If you were a new data scientist joining this project, what would you need to\n",
    "understand this dataset?\n",
    "\n",
    "Answer 1: \n",
    "As a new scientist that has joined this project, I would to quickly understand the structure, context and purpose of the dataset to be able to analyze, manipulate and visualize insights.\n",
    "\n",
    "- Dataset Overview (Context & Purpose)\n",
    "Here we find out all what the dataset is about (in this case it captures information about GenZ users and their dating app behaviors.\n",
    "\n",
    "Why the data was gathered, which in this case is to analyze dating trends preferences, and challenges faced by Gen-Z users. It might help improve existing apps, develop new features, or understand user satisfaction.\n",
    "\n",
    "Where the data was gathered from, to clarify whether it comes from surverys, app, usage logs, or third-party sources.\n",
    "\n",
    "- Understanding what each column of the dataset entails\n",
    "\n",
    "- I should be aware of issues related with the data such as (Missing values, duplicates, outliers, Categorical Inconsistencies).\n",
    "\n",
    "- Understanding of the projects objectives, goals and questions. Here it is important to understand what questions the team is trying to answer like: \n",
    "Does gender influence dating app preferences?\n",
    "Are people using multiple dating apps at the same time?\n",
    "Which age group is most active on dating apps?\n",
    "\n",
    "-File structure and documentation:\n",
    "For easy collaboration:\n",
    "\n",
    "README.md: A file explaining the dataset, project goals, and how to run the analysis.\n",
    "\n",
    "Data Cleaning Steps: Documentation of how missing values, duplicates, and outliers were handled.\n",
    "\n",
    "GitHub Workflow: Information on how to track changes, create branches, and commit updates."
   ]
  },
  {
   "cell_type": "markdown",
   "id": "b014fc95-cb33-48cd-9b7a-c67a72ae1093",
   "metadata": {},
   "source": [
    "Q2: How do you write effective column descriptions?\n",
    "\n",
    "Writing clear and effective column descriptions helps anyone working with the dataset quickly understand the meaning of each column. To come up with effective column descriptions you need to be:\n",
    "\n",
    "Clear and Concise: this can be acheived by using straightfoward and less complex languages.\n",
    "\n",
    "Clear explanation of each column: describe what the column measures and why it is important.\n",
    "\n",
    "Specify the Data type associated with each column."
   ]
  },
  {
   "cell_type": "markdown",
   "id": "317d9976-34e7-43bc-9b62-b1bcceaac46f",
   "metadata": {},
   "source": [
    "Q3: What’s the best way to track changes in a dataset over time?\n",
    "\n",
    "- Version Control with Git and GitHub\n",
    "Datasets can be version-controlled using Git and platforms like GitHub by:\n",
    "\n",
    "Storing the Dataset in a Git Repository.\n",
    "\n",
    "Committing Changes Regularly.\n",
    "\n",
    "Using Branches for Different Tasks.\n",
    "\n",
    "Tracking changes with Diffs.\n",
    "\n",
    "Merging and documentation."
   ]
  },
  {
   "cell_type": "code",
   "execution_count": null,
   "id": "b3743e76-b41d-40d7-b47b-8e16f7846b56",
   "metadata": {},
   "outputs": [],
   "source": []
  }
 ],
 "metadata": {
  "kernelspec": {
   "display_name": "Python 3 (ipykernel)",
   "language": "python",
   "name": "python3"
  },
  "language_info": {
   "codemirror_mode": {
    "name": "ipython",
    "version": 3
   },
   "file_extension": ".py",
   "mimetype": "text/x-python",
   "name": "python",
   "nbconvert_exporter": "python",
   "pygments_lexer": "ipython3",
   "version": "3.12.8"
  }
 },
 "nbformat": 4,
 "nbformat_minor": 5
}
